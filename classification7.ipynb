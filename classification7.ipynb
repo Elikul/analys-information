{
  "nbformat": 4,
  "nbformat_minor": 0,
  "metadata": {
    "colab": {
      "provenance": [],
      "authorship_tag": "ABX9TyNfeiLMQxrhdcfjUJ+cfPcJ",
      "include_colab_link": true
    },
    "kernelspec": {
      "name": "python3",
      "display_name": "Python 3"
    },
    "language_info": {
      "name": "python"
    },
    "gpuClass": "standard"
  },
  "cells": [
    {
      "cell_type": "markdown",
      "metadata": {
        "id": "view-in-github",
        "colab_type": "text"
      },
      "source": [
        "<a href=\"https://colab.research.google.com/github/Elikul/analys-information/blob/main/classification7.ipynb\" target=\"_parent\"><img src=\"https://colab.research.google.com/assets/colab-badge.svg\" alt=\"Open In Colab\"/></a>"
      ]
    },
    {
      "cell_type": "code",
      "source": [
        "import tensorflow as tf\n",
        "import tensorflow_hub as hub\n",
        "import tensorflow_datasets as tfds\n",
        "import pandas as pd\n",
        "from sklearn.preprocessing import LabelEncoder, OneHotEncoder\n",
        "from keras.utils import to_categorical\n",
        "from keras.layers import Dense\n",
        "from keras.models import Model\n",
        "import numpy as np\n",
        "from sklearn import metrics\n",
        "from sklearn.model_selection import train_test_split\n",
        "import matplotlib.pyplot as plt"
      ],
      "metadata": {
        "id": "Z1R2IO3StKqa"
      },
      "execution_count": 207,
      "outputs": []
    },
    {
      "cell_type": "code",
      "source": [
        "# отключает жаждующие исполнение, нужно для языковой модели elmo, которую здесь использую, чтобы работала с tensorflow 2\n",
        "tf.compat.v1.disable_eager_execution()"
      ],
      "metadata": {
        "id": "OVM6_MF70nPp"
      },
      "execution_count": 208,
      "outputs": []
    },
    {
      "cell_type": "markdown",
      "source": [
        "Загружаем датасет"
      ],
      "metadata": {
        "id": "p270Ub5exoyX"
      }
    },
    {
      "cell_type": "code",
      "source": [
        "!pip install opendatasets --upgrade --quiet\n",
        "import opendatasets as od\n",
        "\n",
        "url = 'https://www.kaggle.com/datasets/terrychanorg/pred-spam-text-message-classification'\n",
        "\n",
        "od.download(url)"
      ],
      "metadata": {
        "colab": {
          "base_uri": "https://localhost:8080/"
        },
        "id": "1S4f6prI0xZ9",
        "outputId": "338f1ffd-7061-41dd-e182-9a086f84d013"
      },
      "execution_count": 209,
      "outputs": [
        {
          "output_type": "stream",
          "name": "stdout",
          "text": [
            "Skipping, found downloaded files in \"./pred-spam-text-message-classification\" (use force=True to force download)\n"
          ]
        }
      ]
    },
    {
      "cell_type": "code",
      "source": [
        "data_path = './pred-spam-text-message-classification/spam-text.csv'"
      ],
      "metadata": {
        "id": "jdXmvySi2ISs"
      },
      "execution_count": 210,
      "outputs": []
    },
    {
      "cell_type": "markdown",
      "source": [
        "Обработка данных датасета"
      ],
      "metadata": {
        "id": "zfWsI-F56RUz"
      }
    },
    {
      "cell_type": "code",
      "source": [
        "text_spam_df = pd.read_csv(data_path, encoding='latin-1')"
      ],
      "metadata": {
        "id": "-t2e04t_2gQf"
      },
      "execution_count": 211,
      "outputs": []
    },
    {
      "cell_type": "code",
      "source": [
        "le = LabelEncoder()"
      ],
      "metadata": {
        "id": "bResIwAtc2Y0"
      },
      "execution_count": 229,
      "outputs": []
    },
    {
      "cell_type": "code",
      "source": [
        "x = text_spam_df['text'].to_numpy()\n",
        "y = le.fit_transform(list(text_spam_df['label']))"
      ],
      "metadata": {
        "id": "UDSRJp9T285C"
      },
      "execution_count": 213,
      "outputs": []
    },
    {
      "cell_type": "markdown",
      "source": [
        "Выделяем выборки для обучения, валидации и теста"
      ],
      "metadata": {
        "id": "pKnMCMBRxxM_"
      }
    },
    {
      "cell_type": "code",
      "source": [
        "def get_index(percent):\n",
        "  dataset_size = text_spam_df.shape[0]\n",
        "  return int(dataset_size * percent)"
      ],
      "metadata": {
        "id": "qhh57AJVx7TU"
      },
      "execution_count": 214,
      "outputs": []
    },
    {
      "cell_type": "code",
      "source": [
        "train_index = get_index(0.4)\n",
        "x_train = np.asarray(x[:train_index])\n",
        "y_train = np.asarray(y[:train_index])"
      ],
      "metadata": {
        "id": "Yj2A7HnQ3X9i"
      },
      "execution_count": 215,
      "outputs": []
    },
    {
      "cell_type": "code",
      "source": [
        "val_index = get_index(0.3) +  train_index\n",
        "x_val = np.asarray(x[train_index:val_index])\n",
        "y_val = np.asarray(y[train_index:val_index])"
      ],
      "metadata": {
        "id": "HZX9Bauz3kLT"
      },
      "execution_count": 216,
      "outputs": []
    },
    {
      "cell_type": "code",
      "source": [
        "x_test = np.asarray(x[val_index:])\n",
        "y_test = np.asarray(y[val_index:])"
      ],
      "metadata": {
        "id": "l3p4R-Ad3cjT"
      },
      "execution_count": 217,
      "outputs": []
    },
    {
      "cell_type": "markdown",
      "source": [
        "Языковая модель ELMO от tensorflow_hub"
      ],
      "metadata": {
        "id": "UjGPhYGR6a57"
      }
    },
    {
      "cell_type": "code",
      "source": [
        "elmo = \"https://tfhub.dev/google/elmo/3\"\n",
        "# берём слой языковой модели на архитектуре ELMO\n",
        "hub_layer = hub.KerasLayer(elmo, input_shape=[], dtype=tf.string, trainable=False)\n",
        "hub_layer(x_train)"
      ],
      "metadata": {
        "colab": {
          "base_uri": "https://localhost:8080/"
        },
        "id": "HHPDJEdc7poY",
        "outputId": "4a3b7aa2-c791-4055-87e1-504f784708da"
      },
      "execution_count": 218,
      "outputs": [
        {
          "output_type": "execute_result",
          "data": {
            "text/plain": [
              "<tf.Tensor 'keras_layer_3/StatefulPartitionedCall:0' shape=(2228, 1024) dtype=float32>"
            ]
          },
          "metadata": {},
          "execution_count": 218
        }
      ]
    },
    {
      "cell_type": "markdown",
      "source": [
        "Модель"
      ],
      "metadata": {
        "id": "_FsP-rnv7WXz"
      }
    },
    {
      "cell_type": "code",
      "source": [
        "model = tf.keras.Sequential()\n",
        "model.add(hub_layer)\n",
        "model.add(Dense(256, activation='relu'))\n",
        "model.add(Dense(1, activation='sigmoid'))\n",
        "\n",
        "model.summary()"
      ],
      "metadata": {
        "colab": {
          "base_uri": "https://localhost:8080/"
        },
        "id": "wUiWiN_t7tbo",
        "outputId": "fcafed0c-5922-463e-f3e6-e0b3d6c4b521"
      },
      "execution_count": 219,
      "outputs": [
        {
          "output_type": "stream",
          "name": "stdout",
          "text": [
            "Model: \"sequential_2\"\n",
            "_________________________________________________________________\n",
            " Layer (type)                Output Shape              Param #   \n",
            "=================================================================\n",
            " keras_layer_3 (KerasLayer)  (None, 1024)              93600852  \n",
            "                                                                 \n",
            " dense_4 (Dense)             (None, 256)               262400    \n",
            "                                                                 \n",
            " dense_5 (Dense)             (None, 1)                 257       \n",
            "                                                                 \n",
            "=================================================================\n",
            "Total params: 93,863,509\n",
            "Trainable params: 262,657\n",
            "Non-trainable params: 93,600,852\n",
            "_________________________________________________________________\n"
          ]
        }
      ]
    },
    {
      "cell_type": "markdown",
      "source": [
        "Функция потерь и оптимизатор"
      ],
      "metadata": {
        "id": "WMICLyLkPlg_"
      }
    },
    {
      "cell_type": "code",
      "source": [
        "model.compile(optimizer='adam',\n",
        "              loss='binary_crossentropy',\n",
        "              metrics=['accuracy'])"
      ],
      "metadata": {
        "id": "-Z-Ix-1H7y8p"
      },
      "execution_count": 220,
      "outputs": []
    },
    {
      "cell_type": "markdown",
      "source": [
        "Обучаем модель"
      ],
      "metadata": {
        "id": "ThjjNYHqPmg6"
      }
    },
    {
      "cell_type": "code",
      "source": [
        "history = model.fit(x_train,\n",
        "                    y_train,\n",
        "                    batch_size=64,\n",
        "                    validation_data=(x_val, y_val),\n",
        "                    epochs=2,\n",
        "                    verbose=1)"
      ],
      "metadata": {
        "colab": {
          "base_uri": "https://localhost:8080/"
        },
        "id": "EdLc0MfL71Ka",
        "outputId": "21008459-c2a3-4bdb-89b9-20e5964efe85"
      },
      "execution_count": 221,
      "outputs": [
        {
          "output_type": "stream",
          "name": "stdout",
          "text": [
            "Train on 2228 samples, validate on 1671 samples\n",
            "Epoch 1/2\n",
            "2228/2228 [==============================] - ETA: 0s - loss: 0.1371 - accuracy: 0.9457 "
          ]
        },
        {
          "output_type": "stream",
          "name": "stderr",
          "text": [
            "/usr/local/lib/python3.8/dist-packages/keras/engine/training_v1.py:2045: UserWarning: `Model.state_updates` will be removed in a future version. This property should not be used in TensorFlow 2.0, as `updates` are applied automatically.\n",
            "  updates = self.state_updates\n"
          ]
        },
        {
          "output_type": "stream",
          "name": "stdout",
          "text": [
            "\b\b\b\b\b\b\b\b\b\b\b\b\b\b\b\b\b\b\b\b\b\b\b\b\b\b\b\b\b\b\b\b\b\b\b\b\b\b\b\b\b\b\b\b\b\b\b\b\b\b\b\b\b\b\b\b\b\b\b\b\b\b\b\b\b\b\b\b\b\b\b\b\b\b\b\b\b\b\b\b\b\b\b\b\b\b\r2228/2228 [==============================] - 1302s 584ms/sample - loss: 0.1371 - accuracy: 0.9457 - val_loss: 0.0725 - val_accuracy: 0.9785\n",
            "Epoch 2/2\n",
            "2228/2228 [==============================] - 1355s 608ms/sample - loss: 0.0479 - accuracy: 0.9838 - val_loss: 0.0559 - val_accuracy: 0.9856\n"
          ]
        }
      ]
    },
    {
      "cell_type": "code",
      "source": [
        "model.save('ELMoModel.h5')"
      ],
      "metadata": {
        "id": "N1SBhupQZ8j0"
      },
      "execution_count": 222,
      "outputs": []
    },
    {
      "cell_type": "markdown",
      "source": [
        "Оценить модель"
      ],
      "metadata": {
        "id": "uTLE_UB5Ptn3"
      }
    },
    {
      "cell_type": "code",
      "source": [
        "results = model.evaluate(x_test, y_test, batch_size=64, verbose=2)"
      ],
      "metadata": {
        "id": "Q5q-LQXK_YX6"
      },
      "execution_count": 223,
      "outputs": []
    },
    {
      "cell_type": "code",
      "source": [
        "for name, value in zip(model.metrics_names, results):\n",
        "  print(\"%s: %.3f\" % (name, value))"
      ],
      "metadata": {
        "colab": {
          "base_uri": "https://localhost:8080/"
        },
        "id": "7VGxvUwEX0kh",
        "outputId": "5138b20f-9fdc-4914-cc0a-ffa186c1a0e6"
      },
      "execution_count": 224,
      "outputs": [
        {
          "output_type": "stream",
          "name": "stdout",
          "text": [
            "loss: 0.050\n",
            "accuracy: 0.985\n"
          ]
        }
      ]
    },
    {
      "cell_type": "code",
      "source": [
        "history_dict = history.history\n",
        "acc_values = history_dict['accuracy']\n",
        "val_acc_values = history_dict['val_accuracy']\n",
        "epochs = range(1, len(acc_values) + 1)\n",
        "plt.plot(epochs, acc_values, 'b', label='Training acc')\n",
        "plt.plot(epochs, val_acc_values, 'r', label='Validation acc')\n",
        "plt.xlabel('Epochs')\n",
        "plt.ylabel('Accuracy')\n",
        "plt.legend()\n",
        "plt.show()"
      ],
      "metadata": {
        "colab": {
          "base_uri": "https://localhost:8080/",
          "height": 279
        },
        "id": "tPMwYe4LWekL",
        "outputId": "fb54c088-416c-46f5-e0a4-e0acbfe7326b"
      },
      "execution_count": 232,
      "outputs": [
        {
          "output_type": "display_data",
          "data": {
            "text/plain": [
              "<Figure size 432x288 with 1 Axes>"
            ],
            "image/png": "[encoded data removed]"
          },
          "metadata": {
            "needs_background": "light"
          }
        }
      ]
    },
    {
      "cell_type": "code",
      "source": [
        "loss_values = history_dict['loss']\n",
        "val_los_values = history_dict['val_loss']\n",
        "epochs = range(1, len(acc_values) + 1)\n",
        "plt.plot(epochs, loss_values, 'b', label='Training loss')\n",
        "plt.plot(epochs, val_los_values, 'r', label='Validation loss')\n",
        "plt.xlabel('Epochs')\n",
        "plt.ylabel('Loss')\n",
        "plt.legend()\n",
        "plt.show()"
      ],
      "metadata": {
        "colab": {
          "base_uri": "https://localhost:8080/",
          "height": 280
        },
        "id": "Qre3HrWq26hl",
        "outputId": "79fdf057-4e41-42ae-a1a9-4e24b886f185"
      },
      "execution_count": 233,
      "outputs": [
        {
          "output_type": "display_data",
          "data": {
            "text/plain": [
              "<Figure size 432x288 with 1 Axes>"
            ],
            "image/png": "[encoded data removed]"
          },
          "metadata": {
            "needs_background": "light"
          }
        }
      ]
    },
    {
      "cell_type": "markdown",
      "source": [
        "Пробуем распознование"
      ],
      "metadata": {
        "id": "E9hE7_yzP6b_"
      }
    },
    {
      "cell_type": "code",
      "source": [
        "predicts = model.predict(x_test)"
      ],
      "metadata": {
        "id": "1hPUKMkmdHKx",
        "colab": {
          "base_uri": "https://localhost:8080/"
        },
        "outputId": "c22195dd-121d-4be7-b346-1bc0e6944156"
      },
      "execution_count": 226,
      "outputs": [
        {
          "output_type": "stream",
          "name": "stderr",
          "text": [
            "/usr/local/lib/python3.8/dist-packages/keras/engine/training_v1.py:2067: UserWarning: `Model.state_updates` will be removed in a future version. This property should not be used in TensorFlow 2.0, as `updates` are applied automatically.\n",
            "  updates=self.state_updates,\n"
          ]
        }
      ]
    },
    {
      "cell_type": "code",
      "source": [
        "y_pred = np.concatenate(np.around(predicts), axis=0)"
      ],
      "metadata": {
        "id": "HQ1b3BHNfCmJ"
      },
      "execution_count": 227,
      "outputs": []
    },
    {
      "cell_type": "markdown",
      "source": [
        "Оценка результата классификации с помощью метрик"
      ],
      "metadata": {
        "id": "cRkqMs4QQloa"
      }
    },
    {
      "cell_type": "code",
      "source": [
        "print(metrics.classification_report(y_test, y_pred, target_names=[\"ham\",\"spam\"]))"
      ],
      "metadata": {
        "colab": {
          "base_uri": "https://localhost:8080/"
        },
        "id": "q7uQkh_KdNqF",
        "outputId": "32ef8632-16b8-40ff-efb9-2d40e8542436"
      },
      "execution_count": 228,
      "outputs": [
        {
          "output_type": "stream",
          "name": "stdout",
          "text": [
            "              precision    recall  f1-score   support\n",
            "\n",
            "         ham       0.99      1.00      0.99      1445\n",
            "        spam       0.97      0.92      0.94       228\n",
            "\n",
            "    accuracy                           0.99      1673\n",
            "   macro avg       0.98      0.96      0.97      1673\n",
            "weighted avg       0.98      0.99      0.98      1673\n",
            "\n"
          ]
        }
      ]
    }
  ]
}