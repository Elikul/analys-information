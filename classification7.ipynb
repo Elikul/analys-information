{
  "nbformat": 4,
  "nbformat_minor": 0,
  "metadata": {
    "colab": {
      "provenance": [],
      "authorship_tag": "ABX9TyNFuIu+WKHqgTMCebW4I5aQ",
      "include_colab_link": true
    },
    "kernelspec": {
      "name": "python3",
      "display_name": "Python 3"
    },
    "language_info": {
      "name": "python"
    },
    "gpuClass": "standard"
  },
  "cells": [
    {
      "cell_type": "markdown",
      "metadata": {
        "id": "view-in-github",
        "colab_type": "text"
      },
      "source": [
        "<a href=\"https://colab.research.google.com/github/Elikul/analys-information/blob/main/classification7.ipynb\" target=\"_parent\"><img src=\"https://colab.research.google.com/assets/colab-badge.svg\" alt=\"Open In Colab\"/></a>"
      ]
    },
    {
      "cell_type": "code",
      "source": [
        "import tensorflow as tf\n",
        "import tensorflow_hub as hub\n",
        "import pandas as pd\n",
        "from sklearn.preprocessing import LabelEncoder, OneHotEncoder\n",
        "from keras.utils import to_categorical\n",
        "from keras.layers import Dense\n",
        "from keras.models import Model\n",
        "import numpy as np\n",
        "from sklearn import metrics\n",
        "import matplotlib.pyplot as plt"
      ],
      "metadata": {
        "id": "Z1R2IO3StKqa"
      },
      "execution_count": 14,
      "outputs": []
    },
    {
      "cell_type": "code",
      "source": [
        "# отключает жаждующие исполнение, нужно для языковой модели elmo, которую здесь использую, чтобы работала с tensorflow 2\n",
        "tf.compat.v1.disable_eager_execution()"
      ],
      "metadata": {
        "id": "OVM6_MF70nPp"
      },
      "execution_count": 15,
      "outputs": []
    },
    {
      "cell_type": "markdown",
      "source": [
        "Загружаем датасет"
      ],
      "metadata": {
        "id": "p270Ub5exoyX"
      }
    },
    {
      "cell_type": "code",
      "source": [
        "!pip install opendatasets --upgrade --quiet\n",
        "import opendatasets as od\n",
        "\n",
        "url = 'https://www.kaggle.com/datasets/terrychanorg/pred-spam-text-message-classification'\n",
        "\n",
        "od.download(url)"
      ],
      "metadata": {
        "colab": {
          "base_uri": "https://localhost:8080/"
        },
        "id": "1S4f6prI0xZ9",
        "outputId": "f4251a78-408a-4224-9f80-b812f4ba7fa5"
      },
      "execution_count": 16,
      "outputs": [
        {
          "output_type": "stream",
          "name": "stdout",
          "text": [
            "Skipping, found downloaded files in \"./pred-spam-text-message-classification\" (use force=True to force download)\n"
          ]
        }
      ]
    },
    {
      "cell_type": "code",
      "source": [
        "data_path = './pred-spam-text-message-classification/spam-text.csv'"
      ],
      "metadata": {
        "id": "jdXmvySi2ISs"
      },
      "execution_count": 17,
      "outputs": []
    },
    {
      "cell_type": "markdown",
      "source": [
        "Предобработка данных датасета"
      ],
      "metadata": {
        "id": "zfWsI-F56RUz"
      }
    },
    {
      "cell_type": "code",
      "source": [
        "text_spam_df = pd.read_csv(data_path, encoding='latin-1')"
      ],
      "metadata": {
        "id": "-t2e04t_2gQf"
      },
      "execution_count": 18,
      "outputs": []
    },
    {
      "cell_type": "code",
      "source": [
        "le = LabelEncoder()"
      ],
      "metadata": {
        "id": "bResIwAtc2Y0"
      },
      "execution_count": 19,
      "outputs": []
    },
    {
      "cell_type": "code",
      "source": [
        "x = text_spam_df['text'].to_numpy()\n",
        "y = le.fit_transform(list(text_spam_df['label']))"
      ],
      "metadata": {
        "id": "UDSRJp9T285C"
      },
      "execution_count": 20,
      "outputs": []
    },
    {
      "cell_type": "markdown",
      "source": [
        "Выделяем выборки для обучения, валидации и теста"
      ],
      "metadata": {
        "id": "pKnMCMBRxxM_"
      }
    },
    {
      "cell_type": "code",
      "source": [
        "def get_index(percent):\n",
        "  dataset_size = text_spam_df.shape[0]\n",
        "  return int(dataset_size * percent)"
      ],
      "metadata": {
        "id": "qhh57AJVx7TU"
      },
      "execution_count": 21,
      "outputs": []
    },
    {
      "cell_type": "code",
      "source": [
        "train_index = get_index(0.4)\n",
        "x_train = np.asarray(x[:train_index])\n",
        "y_train = np.asarray(y[:train_index])"
      ],
      "metadata": {
        "id": "Yj2A7HnQ3X9i"
      },
      "execution_count": 22,
      "outputs": []
    },
    {
      "cell_type": "code",
      "source": [
        "val_index = get_index(0.3) +  train_index\n",
        "x_val = np.asarray(x[train_index:val_index])\n",
        "y_val = np.asarray(y[train_index:val_index])"
      ],
      "metadata": {
        "id": "HZX9Bauz3kLT"
      },
      "execution_count": 23,
      "outputs": []
    },
    {
      "cell_type": "code",
      "source": [
        "x_test = np.asarray(x[val_index:])\n",
        "y_test = np.asarray(y[val_index:])"
      ],
      "metadata": {
        "id": "l3p4R-Ad3cjT"
      },
      "execution_count": 24,
      "outputs": []
    },
    {
      "cell_type": "markdown",
      "source": [
        "Языковая модель ELMO от tensorflow_hub"
      ],
      "metadata": {
        "id": "UjGPhYGR6a57"
      }
    },
    {
      "cell_type": "code",
      "source": [
        "elmo = \"https://tfhub.dev/google/elmo/3\"\n",
        "# берём слой языковой модели на архитектуре ELMO\n",
        "hub_layer = hub.KerasLayer(elmo, input_shape=[], dtype=tf.string, trainable=False)\n",
        "hub_layer(x_train)"
      ],
      "metadata": {
        "colab": {
          "base_uri": "https://localhost:8080/"
        },
        "id": "HHPDJEdc7poY",
        "outputId": "45e9f9f2-bd30-47d6-ec4c-8d0d6d60d074"
      },
      "execution_count": 25,
      "outputs": [
        {
          "output_type": "execute_result",
          "data": {
            "text/plain": [
              "<tf.Tensor 'keras_layer_1/StatefulPartitionedCall:0' shape=(2228, 1024) dtype=float32>"
            ]
          },
          "metadata": {},
          "execution_count": 25
        }
      ]
    },
    {
      "cell_type": "markdown",
      "source": [
        "Модель"
      ],
      "metadata": {
        "id": "_FsP-rnv7WXz"
      }
    },
    {
      "cell_type": "code",
      "source": [
        "model = tf.keras.Sequential()\n",
        "model.add(hub_layer)\n",
        "model.add(Dense(256, activation='relu'))\n",
        "model.add(Dense(1, activation='sigmoid'))\n",
        "\n",
        "model.summary()"
      ],
      "metadata": {
        "colab": {
          "base_uri": "https://localhost:8080/"
        },
        "id": "wUiWiN_t7tbo",
        "outputId": "68e8fb45-fa26-43f8-b167-1e66dfb920c7"
      },
      "execution_count": 26,
      "outputs": [
        {
          "output_type": "stream",
          "name": "stdout",
          "text": [
            "Model: \"sequential\"\n",
            "_________________________________________________________________\n",
            " Layer (type)                Output Shape              Param #   \n",
            "=================================================================\n",
            " keras_layer_1 (KerasLayer)  (None, 1024)              93600852  \n",
            "                                                                 \n",
            " dense (Dense)               (None, 256)               262400    \n",
            "                                                                 \n",
            " dense_1 (Dense)             (None, 1)                 257       \n",
            "                                                                 \n",
            "=================================================================\n",
            "Total params: 93,863,509\n",
            "Trainable params: 262,657\n",
            "Non-trainable params: 93,600,852\n",
            "_________________________________________________________________\n"
          ]
        }
      ]
    },
    {
      "cell_type": "markdown",
      "source": [
        "Функция потерь и оптимизатор"
      ],
      "metadata": {
        "id": "WMICLyLkPlg_"
      }
    },
    {
      "cell_type": "code",
      "source": [
        "model.compile(optimizer='adam',\n",
        "              loss='binary_crossentropy',\n",
        "              metrics=['accuracy'])"
      ],
      "metadata": {
        "id": "-Z-Ix-1H7y8p"
      },
      "execution_count": 27,
      "outputs": []
    },
    {
      "cell_type": "markdown",
      "source": [
        "Обучаем модель"
      ],
      "metadata": {
        "id": "ThjjNYHqPmg6"
      }
    },
    {
      "cell_type": "code",
      "source": [
        "history = model.fit(x_train,\n",
        "                    y_train,\n",
        "                    batch_size=64,\n",
        "                    validation_data=(x_val, y_val),\n",
        "                    epochs=2,\n",
        "                    verbose=1)"
      ],
      "metadata": {
        "colab": {
          "base_uri": "https://localhost:8080/"
        },
        "id": "EdLc0MfL71Ka",
        "outputId": "7444450b-5cd9-4efa-dbd0-86406b25a0a7"
      },
      "execution_count": 28,
      "outputs": [
        {
          "output_type": "stream",
          "name": "stdout",
          "text": [
            "Train on 2228 samples, validate on 1671 samples\n",
            "Epoch 1/2\n",
            "2228/2228 [==============================] - ETA: 0s - loss: 0.1639 - accuracy: 0.9183 "
          ]
        },
        {
          "output_type": "stream",
          "name": "stderr",
          "text": [
            "/usr/local/lib/python3.8/dist-packages/keras/engine/training_v1.py:2045: UserWarning: `Model.state_updates` will be removed in a future version. This property should not be used in TensorFlow 2.0, as `updates` are applied automatically.\n",
            "  updates = self.state_updates\n"
          ]
        },
        {
          "output_type": "stream",
          "name": "stdout",
          "text": [
            "\b\b\b\b\b\b\b\b\b\b\b\b\b\b\b\b\b\b\b\b\b\b\b\b\b\b\b\b\b\b\b\b\b\b\b\b\b\b\b\b\b\b\b\b\b\b\b\b\b\b\b\b\b\b\b\b\b\b\b\b\b\b\b\b\b\b\b\b\b\b\b\b\b\b\b\b\b\b\b\b\b\b\b\b\b\b\r2228/2228 [==============================] - 1099s 493ms/sample - loss: 0.1639 - accuracy: 0.9183 - val_loss: 0.0836 - val_accuracy: 0.9791\n",
            "Epoch 2/2\n",
            "2228/2228 [==============================] - 1131s 508ms/sample - loss: 0.0560 - accuracy: 0.9807 - val_loss: 0.0631 - val_accuracy: 0.9808\n"
          ]
        }
      ]
    },
    {
      "cell_type": "code",
      "source": [
        "model.save('ELMoModel.h5')"
      ],
      "metadata": {
        "id": "N1SBhupQZ8j0"
      },
      "execution_count": 29,
      "outputs": []
    },
    {
      "cell_type": "markdown",
      "source": [
        "Оценить модель"
      ],
      "metadata": {
        "id": "uTLE_UB5Ptn3"
      }
    },
    {
      "cell_type": "code",
      "source": [
        "results = model.evaluate(x_test, y_test, batch_size=64, verbose=2)"
      ],
      "metadata": {
        "id": "Q5q-LQXK_YX6"
      },
      "execution_count": 30,
      "outputs": []
    },
    {
      "cell_type": "code",
      "source": [
        "for name, value in zip(model.metrics_names, results):\n",
        "  print(\"%s: %.3f\" % (name, value))"
      ],
      "metadata": {
        "colab": {
          "base_uri": "https://localhost:8080/"
        },
        "id": "7VGxvUwEX0kh",
        "outputId": "03980cd0-1af7-4e67-9511-8a24ee5477d1"
      },
      "execution_count": 31,
      "outputs": [
        {
          "output_type": "stream",
          "name": "stdout",
          "text": [
            "loss: 0.055\n",
            "accuracy: 0.983\n"
          ]
        }
      ]
    },
    {
      "cell_type": "code",
      "source": [
        "history_dict = history.history\n",
        "acc_values = history_dict['accuracy']\n",
        "val_acc_values = history_dict['val_accuracy']\n",
        "epochs = range(1, len(acc_values) + 1)\n",
        "plt.plot(epochs, acc_values, 'b', label='Training acc')\n",
        "plt.plot(epochs, val_acc_values, 'r', label='Validation acc')\n",
        "plt.xlabel('Epochs')\n",
        "plt.ylabel('Accuracy')\n",
        "plt.legend()\n",
        "plt.show()"
      ],
      "metadata": {
        "colab": {
          "base_uri": "https://localhost:8080/",
          "height": 279
        },
        "id": "tPMwYe4LWekL",
        "outputId": "044ac373-2457-4c68-9cb0-3c2236e2114c"
      },
      "execution_count": 32,
      "outputs": [
        {
          "output_type": "display_data",
          "data": {
            "text/plain": [
              "<Figure size 432x288 with 1 Axes>"
            ],
            "image/png": "[encoded data removed]"
          },
          "metadata": {
            "needs_background": "light"
          }
        }
      ]
    },
    {
      "cell_type": "code",
      "source": [
        "loss_values = history_dict['loss']\n",
        "val_los_values = history_dict['val_loss']\n",
        "epochs = range(1, len(acc_values) + 1)\n",
        "plt.plot(epochs, loss_values, 'b', label='Training loss')\n",
        "plt.plot(epochs, val_los_values, 'r', label='Validation loss')\n",
        "plt.xlabel('Epochs')\n",
        "plt.ylabel('Loss')\n",
        "plt.legend()\n",
        "plt.show()"
      ],
      "metadata": {
        "colab": {
          "base_uri": "https://localhost:8080/",
          "height": 279
        },
        "id": "Qre3HrWq26hl",
        "outputId": "14b991b4-7fa1-4c3f-a11d-54be1341f839"
      },
      "execution_count": 33,
      "outputs": [
        {
          "output_type": "display_data",
          "data": {
            "text/plain": [
              "<Figure size 432x288 with 1 Axes>"
            ],
            "image/png": "[encoded data removed]"
          },
          "metadata": {
            "needs_background": "light"
          }
        }
      ]
    },
    {
      "cell_type": "markdown",
      "source": [
        "Пробуем распознование"
      ],
      "metadata": {
        "id": "E9hE7_yzP6b_"
      }
    },
    {
      "cell_type": "code",
      "source": [
        "predicts = model.predict(x_test)"
      ],
      "metadata": {
        "id": "1hPUKMkmdHKx",
        "colab": {
          "base_uri": "https://localhost:8080/"
        },
        "outputId": "ed7f026d-b8de-4efd-a8cf-66219d639a5b"
      },
      "execution_count": 34,
      "outputs": [
        {
          "output_type": "stream",
          "name": "stderr",
          "text": [
            "/usr/local/lib/python3.8/dist-packages/keras/engine/training_v1.py:2067: UserWarning: `Model.state_updates` will be removed in a future version. This property should not be used in TensorFlow 2.0, as `updates` are applied automatically.\n",
            "  updates=self.state_updates,\n"
          ]
        }
      ]
    },
    {
      "cell_type": "code",
      "source": [
        "y_pred = np.concatenate(np.around(predicts), axis=0)"
      ],
      "metadata": {
        "id": "HQ1b3BHNfCmJ"
      },
      "execution_count": 35,
      "outputs": []
    },
    {
      "cell_type": "markdown",
      "source": [
        "Оценка результата классификации с помощью метрик"
      ],
      "metadata": {
        "id": "cRkqMs4QQloa"
      }
    },
    {
      "cell_type": "code",
      "source": [
        "print(metrics.classification_report(y_test, y_pred, target_names=[\"ham\",\"spam\"]))"
      ],
      "metadata": {
        "colab": {
          "base_uri": "https://localhost:8080/"
        },
        "id": "q7uQkh_KdNqF",
        "outputId": "dcd8b7a6-e5dd-481a-ff9c-5731a02c8676"
      },
      "execution_count": 36,
      "outputs": [
        {
          "output_type": "stream",
          "name": "stdout",
          "text": [
            "              precision    recall  f1-score   support\n",
            "\n",
            "         ham       0.98      1.00      0.99      1445\n",
            "        spam       0.98      0.89      0.93       228\n",
            "\n",
            "    accuracy                           0.98      1673\n",
            "   macro avg       0.98      0.95      0.96      1673\n",
            "weighted avg       0.98      0.98      0.98      1673\n",
            "\n"
          ]
        }
      ]
    }
  ]
}